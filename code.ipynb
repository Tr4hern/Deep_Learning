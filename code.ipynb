{
 "cells": [
  {
   "cell_type": "markdown",
   "metadata": {},
   "source": [
    "## In this file, we will focus ourselves in the choice of which model we want to keep\n",
    "## The creation of the dcgan and its training will be done in the file dcgan.ipynb"
   ]
  },
  {
   "cell_type": "code",
   "execution_count": 1,
   "metadata": {},
   "outputs": [],
   "source": [
    "import ipynb.fs.full.dcgan as dcgan\n",
    "\n",
    "import random\n",
    "import os\n",
    "import matplotlib.pyplot as plt\n",
    "import matplotlib.animation as animation\n",
    "import numpy as np\n",
    "from IPython.display import HTML\n",
    "\n",
    "import warnings\n",
    "warnings.filterwarnings('ignore')"
   ]
  },
  {
   "cell_type": "code",
   "execution_count": 2,
   "metadata": {},
   "outputs": [],
   "source": [
    "path = 'data/'"
   ]
  },
  {
   "cell_type": "code",
   "execution_count": 3,
   "metadata": {},
   "outputs": [],
   "source": [
    "def rand_type(enum):\n",
    "\n",
    "    rnd = random.Random()\n",
    "    rd = rnd.randint(0, (len(enum) - 1))\n",
    "    random_type = enum[rd]\n",
    "    return random_type"
   ]
  },
  {
   "cell_type": "code",
   "execution_count": 1,
   "metadata": {},
   "outputs": [],
   "source": [
    "def check_if_done(name):\n",
    "    p, d, fs = next(os.walk('models/Generator/'))\n",
    "    types = []\n",
    "    \n",
    "    for file in fs:\n",
    "        file = file.replace('.pth', '')\n",
    "        type = file.split('_')\n",
    "        types.append(type[0])\n",
    "        \n",
    "    return (name in types)"
   ]
  },
  {
   "cell_type": "markdown",
   "metadata": {},
   "source": [
    "random_type = rand_type()\n",
    "while (check_if_done(random_type)):\n",
    "    random_type = rand_type()"
   ]
  },
  {
   "cell_type": "code",
   "execution_count": 5,
   "metadata": {},
   "outputs": [],
   "source": [
    "def create_trainloader(path, random_type):\n",
    "\n",
    "    path, changed = dcgan.check_enough_pictures(path + random_type)\n",
    "    trainloader = dcgan.create_trainloader(path, 64, 64)\n",
    "\n",
    "    return trainloader"
   ]
  },
  {
   "cell_type": "code",
   "execution_count": 6,
   "metadata": {},
   "outputs": [],
   "source": [
    "def create_gen_dis():\n",
    "\n",
    "    generator = dcgan.create_generator()\n",
    "    discriminator = dcgan.create_discriminator()\n",
    "\n",
    "    return generator, discriminator"
   ]
  },
  {
   "cell_type": "code",
   "execution_count": 7,
   "metadata": {},
   "outputs": [],
   "source": [
    "def ml(trainloader, generator, discriminator, epochs):\n",
    "\n",
    "    res_gen, res_dis, images, losses = dcgan.machine_learning(trainloader, generator, discriminator, epochs)\n",
    "    return res_gen, res_dis, images"
   ]
  },
  {
   "cell_type": "markdown",
   "metadata": {},
   "source": [
    "fig = plt.figure(figsize = (15, 15))\n",
    "plt.axis(\"off\")\n",
    "ims = [[plt.imshow(np.transpose(i, (1, 2, 0)), animated = True)] for i in images[::5]]\n",
    "ani = animation.ArtistAnimation(fig, ims, interval=250, repeat_delay=250, blit=True)\n",
    "HTML(ani.to_jshtml())"
   ]
  },
  {
   "cell_type": "code",
   "execution_count": 8,
   "metadata": {},
   "outputs": [],
   "source": [
    "def save_models(generator, discriminator, random_type, epochs):\n",
    "\n",
    "    saving_gen = 'models/Generator/'\n",
    "    saving_dis = 'models/Discriminator/'\n",
    "\n",
    "    dcgan.save_gen(generator, saving_gen + random_type + '_' + str(epochs) + 'epochs.pth')\n",
    "    dcgan.save_dis(discriminator, saving_dis + random_type + '_' + str(epochs) + 'epochs.pth')"
   ]
  },
  {
   "cell_type": "markdown",
   "metadata": {},
   "source": [
    "dcgan.save_gen(generator, saving_gen + random_type + '.pth')\n",
    "dcgan.save_dis(discriminator, saving_dis + random_type + '.pth')"
   ]
  },
  {
   "cell_type": "code",
   "execution_count": 9,
   "metadata": {},
   "outputs": [],
   "source": [
    "def load_models(path):\n",
    "\n",
    "    loading_gen = 'models/Generator/'\n",
    "    loading_dis = 'models/Discriminator/'\n",
    "\n",
    "    modelG = dcgan.load_gen(loading_gen, path)\n",
    "    modelD = dcgan.load_gen(loading_dis, path)\n",
    "\n",
    "    return modelG, modelD"
   ]
  },
  {
   "cell_type": "markdown",
   "metadata": {},
   "source": [
    "modelG = dcgan.load_gen(loading_gen, random_type)"
   ]
  },
  {
   "cell_type": "code",
   "execution_count": 10,
   "metadata": {},
   "outputs": [],
   "source": [
    "def get_fakemons(modelG):\n",
    "    return dcgan.fakemons(modelG)"
   ]
  },
  {
   "cell_type": "markdown",
   "metadata": {},
   "source": [
    "fig = plt.figure(figsize=(8, 8))\n",
    "plt.axis(\"off\")\n",
    "ims = [[plt.imshow(np.transpose(i,(1,2,0)), animated = True)] for i in images[::15]]"
   ]
  },
  {
   "cell_type": "code",
   "execution_count": null,
   "metadata": {},
   "outputs": [],
   "source": []
  }
 ],
 "metadata": {
  "interpreter": {
   "hash": "5b4e6c2540be57ec5977bbdbc1154b133ad304eea54dedcf1573a26853d1cf25"
  },
  "kernelspec": {
   "display_name": "Python 3.9.0 64-bit",
   "language": "python",
   "name": "python3"
  },
  "language_info": {
   "codemirror_mode": {
    "name": "ipython",
    "version": 3
   },
   "file_extension": ".py",
   "mimetype": "text/x-python",
   "name": "python",
   "nbconvert_exporter": "python",
   "pygments_lexer": "ipython3",
   "version": "3.9.0"
  },
  "orig_nbformat": 4
 },
 "nbformat": 4,
 "nbformat_minor": 2
}
