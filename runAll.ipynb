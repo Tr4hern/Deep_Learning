{
 "cells": [
  {
   "cell_type": "code",
   "execution_count": 1,
   "metadata": {},
   "outputs": [],
   "source": [
    "%run dcgan.ipynb\n",
    "%run code.ipynb\n",
    "\n",
    "import ipynb.fs.full.code as code\n",
    "import ipynb.fs.full.dcgan as dcgan\n",
    "import os\n",
    "\n",
    "import warnings\n",
    "warnings.filterwarnings('ignore')"
   ]
  },
  {
   "cell_type": "code",
   "execution_count": 2,
   "metadata": {},
   "outputs": [],
   "source": [
    "enum = ['all', 'bug', 'dark', 'dragon', 'electric', 'fairy', 'fighting', 'fire', 'flying', 'ghost', 'grass', 'ground', 'ice', 'normal', 'poison', 'psychic', 'rock', 'steel', 'water']"
   ]
  },
  {
   "cell_type": "code",
   "execution_count": 3,
   "metadata": {},
   "outputs": [],
   "source": [
    "def dict_fakemons(path):\n",
    "\n",
    "    p, d, fs = next(os.walk(path))\n",
    "    gen_fakemons = {}\n",
    "    \n",
    "    for file in fs:\n",
    "        random_type = file.split('_')\n",
    "        random_type = random_type[0]\n",
    "        model = dcgan.load_gen(path, file)\n",
    "        gen_fakemons[random_type] = model\n",
    "        \n",
    "    return gen_fakemons"
   ]
  },
  {
   "cell_type": "code",
   "execution_count": 4,
   "metadata": {},
   "outputs": [],
   "source": [
    "def RunAll():\n",
    "\n",
    "    path = 'data/'\n",
    "    gen_fakemons = dict_fakemons('models/Generator/')\n",
    "    epochs = 1\n",
    "\n",
    "    while(len(gen_fakemons) < len(enum)):\n",
    "\n",
    "        # choice of the type to do\n",
    "        random_type = code.rand_type(enum)\n",
    "\n",
    "        while (code.check_if_done(random_type, enum)):\n",
    "            random_type = code.rand_type(enum)\n",
    "            print(\"New type ? - \" + random_type)\n",
    "\n",
    "        print(\"Type(s) chosen for creating new Pokemon : \" + random_type)\n",
    "\n",
    "        # preparing the gan\n",
    "        trainloader = code.create_trainloader(path, random_type)\n",
    "        generator, discriminator = code.create_gen_dis()\n",
    "\n",
    "        print(\"preparing done\")\n",
    "\n",
    "        # doing the gan\n",
    "        res_gen, res_dis, images = code.ml(trainloader, generator, discriminator, epochs)\n",
    "\n",
    "        print(\"ml done\")\n",
    "\n",
    "        code.save_models(res_gen, res_dis, random_type, epochs)\n",
    "        print(\"saving done\")\n",
    "\n",
    "        gen_fakemons[random_type] = res_gen\n",
    "        print(\"adding gen to dict done\\n\\n\")\n",
    "\n",
    "    dcgan.delete_directory('to_delete')\n",
    "\n",
    "    return gen_fakemons"
   ]
  },
  {
   "cell_type": "code",
   "execution_count": 5,
   "metadata": {},
   "outputs": [
    {
     "ename": "IndexError",
     "evalue": "list index out of range",
     "output_type": "error",
     "traceback": [
      "\u001b[1;31m---------------------------------------------------------------------------\u001b[0m",
      "\u001b[1;31mIndexError\u001b[0m                                Traceback (most recent call last)",
      "\u001b[1;32m~\\AppData\\Local\\Temp/ipykernel_6012/1233601851.py\u001b[0m in \u001b[0;36m<module>\u001b[1;34m\u001b[0m\n\u001b[1;32m----> 1\u001b[1;33m \u001b[0mgen_fakemons\u001b[0m \u001b[1;33m=\u001b[0m \u001b[0mRunAll\u001b[0m\u001b[1;33m(\u001b[0m\u001b[1;33m)\u001b[0m\u001b[1;33m\u001b[0m\u001b[1;33m\u001b[0m\u001b[0m\n\u001b[0m",
      "\u001b[1;32m~\\AppData\\Local\\Temp/ipykernel_6012/2168138077.py\u001b[0m in \u001b[0;36mRunAll\u001b[1;34m()\u001b[0m\n\u001b[0;32m      8\u001b[0m \u001b[1;33m\u001b[0m\u001b[0m\n\u001b[0;32m      9\u001b[0m         \u001b[1;31m# choice of the type to do\u001b[0m\u001b[1;33m\u001b[0m\u001b[1;33m\u001b[0m\u001b[1;33m\u001b[0m\u001b[0m\n\u001b[1;32m---> 10\u001b[1;33m         \u001b[0mrandom_type\u001b[0m \u001b[1;33m=\u001b[0m \u001b[0mcode\u001b[0m\u001b[1;33m.\u001b[0m\u001b[0mrand_type\u001b[0m\u001b[1;33m(\u001b[0m\u001b[0menum\u001b[0m\u001b[1;33m)\u001b[0m\u001b[1;33m\u001b[0m\u001b[1;33m\u001b[0m\u001b[0m\n\u001b[0m\u001b[0;32m     11\u001b[0m \u001b[1;33m\u001b[0m\u001b[0m\n\u001b[0;32m     12\u001b[0m         \u001b[1;32mwhile\u001b[0m \u001b[1;33m(\u001b[0m\u001b[0mcode\u001b[0m\u001b[1;33m.\u001b[0m\u001b[0mcheck_if_done\u001b[0m\u001b[1;33m(\u001b[0m\u001b[0mrandom_type\u001b[0m\u001b[1;33m)\u001b[0m\u001b[1;33m)\u001b[0m\u001b[1;33m:\u001b[0m\u001b[1;33m\u001b[0m\u001b[1;33m\u001b[0m\u001b[0m\n",
      "\u001b[1;32md:\\efrei\\cours\\s9\\deep_learning\\Git\\code.ipynb\u001b[0m in \u001b[0;36mrand_type\u001b[1;34m(enum)\u001b[0m\n\u001b[0;32m     26\u001b[0m     \u001b[1;34m\"import warnings\\n\"\u001b[0m\u001b[1;33m,\u001b[0m\u001b[1;33m\u001b[0m\u001b[1;33m\u001b[0m\u001b[0m\n\u001b[0;32m     27\u001b[0m     \u001b[1;34m\"warnings.filterwarnings('ignore')\"\u001b[0m\u001b[1;33m\u001b[0m\u001b[1;33m\u001b[0m\u001b[0m\n\u001b[1;32m---> 28\u001b[1;33m    ]\n\u001b[0m\u001b[0;32m     29\u001b[0m   },\n\u001b[0;32m     30\u001b[0m   {\n",
      "\u001b[1;31mIndexError\u001b[0m: list index out of range"
     ]
    }
   ],
   "source": [
    "gen_fakemons = RunAll()"
   ]
  },
  {
   "cell_type": "code",
   "execution_count": null,
   "metadata": {},
   "outputs": [
    {
     "data": {
      "text/plain": [
       "dict_keys([])"
      ]
     },
     "execution_count": 12,
     "metadata": {},
     "output_type": "execute_result"
    }
   ],
   "source": [
    "gen_fakemons = dict_fakemons('models/Generator/')\n",
    "gen_fakemons.keys()"
   ]
  },
  {
   "cell_type": "code",
   "execution_count": null,
   "metadata": {},
   "outputs": [],
   "source": []
  }
 ],
 "metadata": {
  "interpreter": {
   "hash": "5b4e6c2540be57ec5977bbdbc1154b133ad304eea54dedcf1573a26853d1cf25"
  },
  "kernelspec": {
   "display_name": "Python 3.9.0 64-bit",
   "language": "python",
   "name": "python3"
  },
  "language_info": {
   "codemirror_mode": {
    "name": "ipython",
    "version": 3
   },
   "file_extension": ".py",
   "mimetype": "text/x-python",
   "name": "python",
   "nbconvert_exporter": "python",
   "pygments_lexer": "ipython3",
   "version": "3.9.0"
  },
  "orig_nbformat": 4
 },
 "nbformat": 4,
 "nbformat_minor": 2
}
